{
  "nbformat": 4,
  "nbformat_minor": 0,
  "metadata": {
    "colab": {
      "provenance": []
    },
    "kernelspec": {
      "name": "python3",
      "display_name": "Python 3"
    },
    "language_info": {
      "name": "python"
    }
  },
  "cells": [
    {
      "cell_type": "code",
      "execution_count": 1,
      "metadata": {
        "colab": {
          "base_uri": "https://localhost:8080/"
        },
        "id": "r9FbbTdUp_NO",
        "outputId": "61dd1aba-eaef-433f-aa47-f381e9a6c8a3"
      },
      "outputs": [
        {
          "output_type": "stream",
          "name": "stdout",
          "text": [
            "\n",
            "🔍 Missing values before cleaning:\n",
            " show_id            0\n",
            "type               0\n",
            "title              0\n",
            "director        2634\n",
            "cast             825\n",
            "country          831\n",
            "date_added        10\n",
            "release_year       0\n",
            "rating             4\n",
            "duration           3\n",
            "listed_in          0\n",
            "description        0\n",
            "dtype: int64\n"
          ]
        }
      ],
      "source": [
        "import pandas as pd\n",
        "\n",
        "# Load the dataset\n",
        "df = pd.read_csv('netflix_titles.csv')\n",
        "\n",
        "# 1️⃣ Check missing values BEFORE cleaning\n",
        "print(\"\\n🔍 Missing values before cleaning:\\n\", df.isnull().sum())\n",
        "\n"
      ]
    },
    {
      "cell_type": "code",
      "source": [
        "# Drop rows with missing 'title'\n",
        "df.dropna(subset=['title'], inplace=True)\n"
      ],
      "metadata": {
        "id": "HSRFlc-uqScn"
      },
      "execution_count": 3,
      "outputs": []
    },
    {
      "cell_type": "code",
      "source": [
        "# 2️⃣ Fill missing values\n",
        "df['director'] = df['director'].fillna('Unknown')\n",
        "df['cast'] = df['cast'].fillna('Not Available')\n",
        "df['country'] = df['country'].fillna('Unknown')\n",
        "df['rating'] = df['rating'].fillna(df['rating'].mode()[0])\n",
        "df['date_added'] = df['date_added'].ffill()"
      ],
      "metadata": {
        "id": "qnAL6IF8qSsA"
      },
      "execution_count": 4,
      "outputs": []
    },
    {
      "cell_type": "code",
      "source": [
        "# 3️⃣ Remove duplicate rows\n",
        "df.drop_duplicates(inplace=True)"
      ],
      "metadata": {
        "id": "zlotNVmHqStk"
      },
      "execution_count": 5,
      "outputs": []
    },
    {
      "cell_type": "code",
      "source": [
        "# 4️⃣ Standardize text values\n",
        "df['type'] = df['type'].str.strip().str.lower()\n",
        "df['country'] = df['country'].str.strip().str.title()"
      ],
      "metadata": {
        "id": "tc-JipHHqSxY"
      },
      "execution_count": 6,
      "outputs": []
    },
    {
      "cell_type": "code",
      "source": [
        "# 5️⃣ Convert date formats\n",
        "df['date_added'] = pd.to_datetime(df['date_added'], errors='coerce')"
      ],
      "metadata": {
        "id": "YnUpKtG3qS0R"
      },
      "execution_count": 7,
      "outputs": []
    },
    {
      "cell_type": "code",
      "source": [
        "# 6️⃣ Rename columns (clean headers)\n",
        "df.columns = df.columns.str.strip().str.lower().str.replace(' ', '_')"
      ],
      "metadata": {
        "id": "A_trrZ5xqxsg"
      },
      "execution_count": 8,
      "outputs": []
    },
    {
      "cell_type": "code",
      "source": [
        "# 7️⃣ Check and fix data types\n",
        "print(\"\\n🧠 Data types before conversion:\\n\", df.dtypes)\n",
        "df['release_year'] = df['release_year'].astype(int)"
      ],
      "metadata": {
        "colab": {
          "base_uri": "https://localhost:8080/"
        },
        "id": "XsvCy9r6qxt6",
        "outputId": "ea4b01f5-aee0-4deb-d67c-10263636664f"
      },
      "execution_count": 9,
      "outputs": [
        {
          "output_type": "stream",
          "name": "stdout",
          "text": [
            "\n",
            "🧠 Data types before conversion:\n",
            " show_id                 object\n",
            "type                    object\n",
            "title                   object\n",
            "director                object\n",
            "cast                    object\n",
            "country                 object\n",
            "date_added      datetime64[ns]\n",
            "release_year             int64\n",
            "rating                  object\n",
            "duration                object\n",
            "listed_in               object\n",
            "description             object\n",
            "dtype: object\n"
          ]
        }
      ]
    },
    {
      "cell_type": "code",
      "source": [
        "# Example: convert duration to number of minutes or seasons\n",
        "# (Optional, but useful if analyzing durations)\n",
        "\n",
        "# 8️⃣ Create new features\n",
        "df['year_added'] = df['date_added'].dt.year\n",
        "df['month_added'] = df['date_added'].dt.month\n",
        "df['actor_count'] = df['cast'].apply(lambda x: 0 if x == 'Not Available' else len(x.split(',')))"
      ],
      "metadata": {
        "id": "47iVeAx6rBqu"
      },
      "execution_count": 10,
      "outputs": []
    },
    {
      "cell_type": "code",
      "source": [
        "# ✅ Print final results\n",
        "\n",
        "print(\"\\n✅ Missing values after cleaning:\\n\", df.isnull().sum())\n",
        "print(\"\\n📊 Sample cleaned data:\\n\", df.head(3))\n",
        "print(\"\\n🔠 Column headers:\\n\", df.columns.tolist())\n",
        "print(\"\\n🧾 Data types after conversion:\\n\", df.dtypes)"
      ],
      "metadata": {
        "colab": {
          "base_uri": "https://localhost:8080/"
        },
        "id": "XfWCXBXtqxyB",
        "outputId": "a78651fc-dfc5-416a-8c0f-9ea228622302"
      },
      "execution_count": 11,
      "outputs": [
        {
          "output_type": "stream",
          "name": "stdout",
          "text": [
            "\n",
            "✅ Missing values after cleaning:\n",
            " show_id          0\n",
            "type             0\n",
            "title            0\n",
            "director         0\n",
            "cast             0\n",
            "country          0\n",
            "date_added      88\n",
            "release_year     0\n",
            "rating           0\n",
            "duration         3\n",
            "listed_in        0\n",
            "description      0\n",
            "year_added      88\n",
            "month_added     88\n",
            "actor_count      0\n",
            "dtype: int64\n",
            "\n",
            "📊 Sample cleaned data:\n",
            "   show_id     type                 title         director  \\\n",
            "0      s1    movie  Dick Johnson Is Dead  Kirsten Johnson   \n",
            "1      s2  tv show         Blood & Water          Unknown   \n",
            "2      s3  tv show             Ganglands  Julien Leclercq   \n",
            "\n",
            "                                                cast        country  \\\n",
            "0                                      Not Available  United States   \n",
            "1  Ama Qamata, Khosi Ngema, Gail Mabalane, Thaban...   South Africa   \n",
            "2  Sami Bouajila, Tracy Gotoas, Samuel Jouy, Nabi...        Unknown   \n",
            "\n",
            "  date_added  release_year rating   duration  \\\n",
            "0 2021-09-25          2020  PG-13     90 min   \n",
            "1 2021-09-24          2021  TV-MA  2 Seasons   \n",
            "2 2021-09-24          2021  TV-MA   1 Season   \n",
            "\n",
            "                                           listed_in  \\\n",
            "0                                      Documentaries   \n",
            "1    International TV Shows, TV Dramas, TV Mysteries   \n",
            "2  Crime TV Shows, International TV Shows, TV Act...   \n",
            "\n",
            "                                         description  year_added  month_added  \\\n",
            "0  As her father nears the end of his life, filmm...      2021.0          9.0   \n",
            "1  After crossing paths at a party, a Cape Town t...      2021.0          9.0   \n",
            "2  To protect his family from a powerful drug lor...      2021.0          9.0   \n",
            "\n",
            "   actor_count  \n",
            "0            0  \n",
            "1           19  \n",
            "2            9  \n",
            "\n",
            "🔠 Column headers:\n",
            " ['show_id', 'type', 'title', 'director', 'cast', 'country', 'date_added', 'release_year', 'rating', 'duration', 'listed_in', 'description', 'year_added', 'month_added', 'actor_count']\n",
            "\n",
            "🧾 Data types after conversion:\n",
            " show_id                 object\n",
            "type                    object\n",
            "title                   object\n",
            "director                object\n",
            "cast                    object\n",
            "country                 object\n",
            "date_added      datetime64[ns]\n",
            "release_year             int64\n",
            "rating                  object\n",
            "duration                object\n",
            "listed_in               object\n",
            "description             object\n",
            "year_added             float64\n",
            "month_added            float64\n",
            "actor_count              int64\n",
            "dtype: object\n"
          ]
        }
      ]
    },
    {
      "cell_type": "code",
      "source": [],
      "metadata": {
        "id": "p_odZZgcqx8-"
      },
      "execution_count": null,
      "outputs": []
    },
    {
      "cell_type": "code",
      "source": [],
      "metadata": {
        "id": "Yv8loF9oqx-e"
      },
      "execution_count": null,
      "outputs": []
    },
    {
      "cell_type": "code",
      "source": [],
      "metadata": {
        "id": "yoyfKc6AqyCt"
      },
      "execution_count": null,
      "outputs": []
    }
  ]
}